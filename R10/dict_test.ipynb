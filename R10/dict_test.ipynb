{
 "cells": [
  {
   "cell_type": "code",
   "execution_count": 12,
   "metadata": {},
   "outputs": [],
   "source": [
    "session = dict()"
   ]
  },
  {
   "cell_type": "code",
   "execution_count": 13,
   "metadata": {},
   "outputs": [
    {
     "ename": "KeyError",
     "evalue": "'logged_in'",
     "output_type": "error",
     "traceback": [
      "\u001b[1;31m---------------------------------------------------------------------------\u001b[0m",
      "\u001b[1;31mKeyError\u001b[0m                                  Traceback (most recent call last)",
      "Cell \u001b[1;32mIn[13], line 1\u001b[0m\n\u001b[1;32m----> 1\u001b[0m \u001b[39mif\u001b[39;00m session[\u001b[39m'\u001b[39;49m\u001b[39mlogged_in\u001b[39;49m\u001b[39m'\u001b[39;49m]:\n\u001b[0;32m      2\u001b[0m     \u001b[39mprint\u001b[39m(\u001b[39m'\u001b[39m\u001b[39mZnaleziony.\u001b[39m\u001b[39m'\u001b[39m)\n",
      "\u001b[1;31mKeyError\u001b[0m: 'logged_in'"
     ]
    }
   ],
   "source": [
    "if session['logged_in']:\n",
    "    print('Znaleziony.')"
   ]
  },
  {
   "cell_type": "code",
   "execution_count": 14,
   "metadata": {},
   "outputs": [],
   "source": [
    "if 'logged_in' in session:\n",
    "    print('Znaleziony.')"
   ]
  },
  {
   "cell_type": "code",
   "execution_count": 15,
   "metadata": {},
   "outputs": [],
   "source": [
    "session['logged_in'] = True"
   ]
  },
  {
   "cell_type": "code",
   "execution_count": 16,
   "metadata": {},
   "outputs": [
    {
     "name": "stdout",
     "output_type": "stream",
     "text": [
      "Znaleziony.\n"
     ]
    }
   ],
   "source": [
    "if 'logged_in' in session:\n",
    "    print('Znaleziony.')"
   ]
  },
  {
   "cell_type": "code",
   "execution_count": 17,
   "metadata": {},
   "outputs": [
    {
     "name": "stdout",
     "output_type": "stream",
     "text": [
      "Znaleziony.\n"
     ]
    }
   ],
   "source": [
    "if session['logged_in']:\n",
    "    print('Znaleziony.')"
   ]
  },
  {
   "cell_type": "code",
   "execution_count": 28,
   "metadata": {},
   "outputs": [
    {
     "name": "stdout",
     "output_type": "stream",
     "text": [
      "{'logged_in': True}\n",
      "{}\n",
      "{'logged_in': True}\n",
      "{}\n"
     ]
    }
   ],
   "source": [
    "# test removing data with clear() and pop()\n",
    "\n",
    "session = dict()\n",
    "\n",
    "# clear()\n",
    "session['logged_in'] = True\n",
    "print(session)\n",
    "session.clear()\n",
    "print(session)\n",
    "if 'logged_in' in session:\n",
    "    print('Znaleziony.')\n",
    "\n",
    "# pop()\n",
    "session['logged_in'] = True\n",
    "print(session)\n",
    "session.pop('logged_in')\n",
    "print(session)\n",
    "if 'logged_in' in session:\n",
    "    print('Znaleziony.')\n",
    "\n",
    "# result:\n",
    "# it's doing the same job, if we watching what they cleaning"
   ]
  }
 ],
 "metadata": {
  "kernelspec": {
   "display_name": "Python 3",
   "language": "python",
   "name": "python3"
  },
  "language_info": {
   "codemirror_mode": {
    "name": "ipython",
    "version": 3
   },
   "file_extension": ".py",
   "mimetype": "text/x-python",
   "name": "python",
   "nbconvert_exporter": "python",
   "pygments_lexer": "ipython3",
   "version": "3.11.3"
  },
  "orig_nbformat": 4
 },
 "nbformat": 4,
 "nbformat_minor": 2
}
