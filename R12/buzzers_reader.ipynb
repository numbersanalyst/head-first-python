{
 "cells": [
  {
   "cell_type": "code",
   "execution_count": 31,
   "metadata": {},
   "outputs": [
    {
     "name": "stdout",
     "output_type": "stream",
     "text": [
      "GODZINA,MIEJSCE DOCELOWE\n",
      "9:35,FREEPORT\n",
      "17:00,FREEPORT\n",
      "9:55,WEST END\n",
      "19:00,WEST END\n",
      "10:45,TREASURE CAY\n",
      "12:00,TREASURE CAY\n",
      "11:45,ROCK SOUND\n",
      "17:55,ROCK SOUND\n"
     ]
    }
   ],
   "source": [
    "# import os\n",
    "# os.chdir('\\Users\\Michal\\Favorites\\Programing\\python\\python-learning\\R12\\buzzers.csv')\n",
    "\n",
    "with open('buzzers.csv') as raw_data:\n",
    "    print(raw_data.read())"
   ]
  },
  {
   "cell_type": "code",
   "execution_count": 32,
   "metadata": {},
   "outputs": [
    {
     "name": "stdout",
     "output_type": "stream",
     "text": [
      "['GODZINA', 'MIEJSCE DOCELOWE']\n",
      "['9:35', 'FREEPORT']\n",
      "['17:00', 'FREEPORT']\n",
      "['9:55', 'WEST END']\n",
      "['19:00', 'WEST END']\n",
      "['10:45', 'TREASURE CAY']\n",
      "['12:00', 'TREASURE CAY']\n",
      "['11:45', 'ROCK SOUND']\n",
      "['17:55', 'ROCK SOUND']\n"
     ]
    }
   ],
   "source": [
    "import csv\n",
    "\n",
    "with open('buzzers.csv') as data:\n",
    "    for line in csv.reader(data):\n",
    "        print(line)"
   ]
  },
  {
   "cell_type": "code",
   "execution_count": 33,
   "metadata": {},
   "outputs": [
    {
     "name": "stdout",
     "output_type": "stream",
     "text": [
      "{'GODZINA': '9:35', 'MIEJSCE DOCELOWE': 'FREEPORT'}\n",
      "{'GODZINA': '17:00', 'MIEJSCE DOCELOWE': 'FREEPORT'}\n",
      "{'GODZINA': '9:55', 'MIEJSCE DOCELOWE': 'WEST END'}\n",
      "{'GODZINA': '19:00', 'MIEJSCE DOCELOWE': 'WEST END'}\n",
      "{'GODZINA': '10:45', 'MIEJSCE DOCELOWE': 'TREASURE CAY'}\n",
      "{'GODZINA': '12:00', 'MIEJSCE DOCELOWE': 'TREASURE CAY'}\n",
      "{'GODZINA': '11:45', 'MIEJSCE DOCELOWE': 'ROCK SOUND'}\n",
      "{'GODZINA': '17:55', 'MIEJSCE DOCELOWE': 'ROCK SOUND'}\n"
     ]
    }
   ],
   "source": [
    "import csv\n",
    "\n",
    "with open('buzzers.csv') as data:\n",
    "    for line in csv.DictReader(data):\n",
    "        print(line)"
   ]
  },
  {
   "cell_type": "code",
   "execution_count": 37,
   "metadata": {},
   "outputs": [
    {
     "name": "stdout",
     "output_type": "stream",
     "text": [
      "{'9:35': 'FREEPORT\\n', '17:00': 'FREEPORT\\n', '9:55': 'WEST END\\n', '19:00': 'WEST END\\n', '10:45': 'TREASURE CAY\\n', '12:00': 'TREASURE CAY\\n', '11:45': 'ROCK SOUND\\n', '17:55': 'ROCK SOUND'}\n",
      "{'10:45': 'TREASURE CAY\\n',\n",
      " '11:45': 'ROCK SOUND\\n',\n",
      " '12:00': 'TREASURE CAY\\n',\n",
      " '17:00': 'FREEPORT\\n',\n",
      " '17:55': 'ROCK SOUND',\n",
      " '19:00': 'WEST END\\n',\n",
      " '9:35': 'FREEPORT\\n',\n",
      " '9:55': 'WEST END\\n'}\n"
     ]
    }
   ],
   "source": [
    "with open ('buzzers.csv') as data:\n",
    "    ignore = data.readline()\n",
    "    flights = {}\n",
    "    for line in data:\n",
    "        k, v = line.split(',')\n",
    "        flights[k] = v\n",
    "\n",
    "print(flights)\n",
    "\n",
    "import pprint\n",
    "pprint.pprint(flights)"
   ]
  },
  {
   "cell_type": "code",
   "execution_count": 38,
   "metadata": {},
   "outputs": [
    {
     "name": "stdout",
     "output_type": "stream",
     "text": [
      "{'9:35': 'FREEPORT', '17:00': 'FREEPORT', '9:55': 'WEST END', '19:00': 'WEST END', '10:45': 'TREASURE CAY', '12:00': 'TREASURE CAY', '11:45': 'ROCK SOUND', '17:55': 'ROCK SOUND'}\n",
      "{'10:45': 'TREASURE CAY',\n",
      " '11:45': 'ROCK SOUND',\n",
      " '12:00': 'TREASURE CAY',\n",
      " '17:00': 'FREEPORT',\n",
      " '17:55': 'ROCK SOUND',\n",
      " '19:00': 'WEST END',\n",
      " '9:35': 'FREEPORT',\n",
      " '9:55': 'WEST END'}\n"
     ]
    }
   ],
   "source": [
    "with open ('buzzers.csv') as data:\n",
    "    ignore = data.readline()\n",
    "    flights = {}\n",
    "    for line in data:\n",
    "        k, v = line.strip().split(',')\n",
    "        flights[k] = v\n",
    "\n",
    "print(flights)\n",
    "\n",
    "import pprint\n",
    "pprint.pprint(flights)"
   ]
  },
  {
   "cell_type": "code",
   "execution_count": 39,
   "metadata": {},
   "outputs": [
    {
     "name": "stdout",
     "output_type": "stream",
     "text": [
      "NIE MIAŁEM ZAMIARU KRZYCZEĆ.\n",
      "Nie Miałem Zamiaru Krzyczeć.\n"
     ]
    }
   ],
   "source": [
    "s = 'NIE MIAŁEM ZAMIARU KRZYCZEĆ.'\n",
    "print(s)\n",
    "\n",
    "t = s.title()\n",
    "print(t)"
   ]
  },
  {
   "cell_type": "code",
   "execution_count": null,
   "metadata": {},
   "outputs": [],
   "source": [
    "from datetime import datetime\n",
    "\n",
    "def convert2ampm(time24: str) -> str:\n",
    "    return datetime.strptime(time24, '%H:%M').strftime('%I:%M%p')"
   ]
  }
 ],
 "metadata": {
  "kernelspec": {
   "display_name": "Python 3",
   "language": "python",
   "name": "python3"
  },
  "language_info": {
   "codemirror_mode": {
    "name": "ipython",
    "version": 3
   },
   "file_extension": ".py",
   "mimetype": "text/x-python",
   "name": "python",
   "nbconvert_exporter": "python",
   "pygments_lexer": "ipython3",
   "version": "3.11.3"
  },
  "orig_nbformat": 4
 },
 "nbformat": 4,
 "nbformat_minor": 2
}
