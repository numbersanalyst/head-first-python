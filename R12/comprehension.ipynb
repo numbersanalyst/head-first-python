{
 "cells": [
  {
   "cell_type": "code",
   "execution_count": 13,
   "metadata": {},
   "outputs": [
    {
     "name": "stdout",
     "output_type": "stream",
     "text": [
      "{'10:45': 'TREASURE CAY',\n",
      " '11:45': 'ROCK SOUND',\n",
      " '12:00': 'TREASURE CAY',\n",
      " '17:00': 'FREEPORT',\n",
      " '17:55': 'ROCK SOUND',\n",
      " '19:00': 'WEST END',\n",
      " '9:35': 'FREEPORT',\n",
      " '9:55': 'WEST END'}\n",
      "\n",
      "{'05:00PM': 'Freeport',\n",
      " '05:55PM': 'Rock Sound',\n",
      " '07:00PM': 'West End',\n",
      " '09:35AM': 'Freeport',\n",
      " '09:55AM': 'West End',\n",
      " '10:45AM': 'Treasure Cay',\n",
      " '11:45AM': 'Rock Sound',\n",
      " '12:00PM': 'Treasure Cay'}\n"
     ]
    }
   ],
   "source": [
    "# do_convert.py\n",
    "\n",
    "from datetime import datetime\n",
    "import pprint\n",
    "\n",
    "def convert2ampm(time24:str) -> str:\n",
    "    return datetime.strptime(time24, '%H:%M').strftime('%I:%M%p')\n",
    "\n",
    "with open('buzzers.csv') as data:\n",
    "    ignore = data.readline()\n",
    "    flights = {}\n",
    "\n",
    "    for line in data:\n",
    "        k, v = line.strip().split(',')\n",
    "        flights[k] = v\n",
    "\n",
    "    pprint.pprint(flights)\n",
    "    print()\n",
    "\n",
    "flights2 = {}\n",
    "\n",
    "for k,v in flights.items():\n",
    "    flights2[convert2ampm(k)] = v.title()\n",
    "\n",
    "pprint.pprint(flights2)\n"
   ]
  },
  {
   "cell_type": "code",
   "execution_count": 3,
   "metadata": {},
   "outputs": [
    {
     "name": "stdout",
     "output_type": "stream",
     "text": [
      "['09:35AM', '05:00PM', '09:55AM', '07:00PM', '10:45AM', '12:00PM', '11:45AM', '05:55PM']\n"
     ]
    }
   ],
   "source": [
    "flight_times = []\n",
    "for ft in flights.keys():\n",
    "    flight_times.append(convert2ampm(ft))\n",
    "\n",
    "print(flight_times)\n"
   ]
  },
  {
   "cell_type": "code",
   "execution_count": 4,
   "metadata": {},
   "outputs": [
    {
     "name": "stdout",
     "output_type": "stream",
     "text": [
      "['Freeport', 'Freeport', 'West End', 'West End', 'Treasure Cay', 'Treasure Cay', 'Rock Sound', 'Rock Sound']\n"
     ]
    }
   ],
   "source": [
    "destinations = [] # new list\n",
    "for dest in flights.values(): # iteration\n",
    "    destinations.append(dest.title()) # add converted data to list\n",
    "\n",
    "print(destinations)"
   ]
  },
  {
   "cell_type": "code",
   "execution_count": 5,
   "metadata": {},
   "outputs": [
    {
     "name": "stdout",
     "output_type": "stream",
     "text": [
      "['Freeport', 'Freeport', 'West End', 'West End', 'Treasure Cay', 'Treasure Cay', 'Rock Sound', 'Rock Sound']\n"
     ]
    }
   ],
   "source": [
    "# comprehension test:\n",
    "# listcomp:\n",
    "more_dest = [dest.title() for dest in flights.values()] # 3 lines of code in one, nice\n",
    "\n",
    "print(more_dest)"
   ]
  },
  {
   "cell_type": "code",
   "execution_count": 6,
   "metadata": {},
   "outputs": [
    {
     "name": "stdout",
     "output_type": "stream",
     "text": [
      "['09:35AM', '05:00PM', '09:55AM', '07:00PM', '10:45AM', '12:00PM', '11:45AM', '05:55PM']\n"
     ]
    }
   ],
   "source": [
    "fts2 = [convert2ampm(ft) for ft in flights.keys()]\n",
    "\n",
    "print(fts2)"
   ]
  },
  {
   "cell_type": "code",
   "execution_count": 24,
   "metadata": {},
   "outputs": [
    {
     "name": "stdout",
     "output_type": "stream",
     "text": [
      "{'05:00PM': 'Freeport',\n",
      " '05:55PM': 'Rock Sound',\n",
      " '07:00PM': 'West End',\n",
      " '09:35AM': 'Freeport',\n",
      " '09:55AM': 'West End',\n",
      " '10:45AM': 'Treasure Cay',\n",
      " '11:45AM': 'Rock Sound',\n",
      " '12:00PM': 'Treasure Cay'}\n"
     ]
    }
   ],
   "source": [
    "# dictcomp:\n",
    "fts = {convert2ampm(k): v.title() for k,v in flights.items()}\n",
    "\n",
    "pprint.pprint(fts)"
   ]
  },
  {
   "cell_type": "code",
   "execution_count": 8,
   "metadata": {},
   "outputs": [
    {
     "name": "stdout",
     "output_type": "stream",
     "text": [
      "{'05:00PM': 'Freeport', '09:35AM': 'Freeport'}\n",
      "{'05:00PM': 'Freeport', '09:35AM': 'Freeport'}\n"
     ]
    }
   ],
   "source": [
    "# flights only to Freeport\n",
    "just_freeport = {}\n",
    "for k,v in flights.items():\n",
    "    if v == 'FREEPORT':\n",
    "        just_freeport[convert2ampm(k)] = v.title()\n",
    "\n",
    "pprint.pprint(just_freeport)\n",
    "\n",
    "# with comprehension\n",
    "just_freeport2 = {convert2ampm(k): v.title()\n",
    "                  for k,v in flights.items()\n",
    "                  if v == 'FREEPORT'}\n",
    "\n",
    "pprint.pprint(just_freeport2)"
   ]
  },
  {
   "cell_type": "markdown",
   "metadata": {},
   "source": [
    "More practice:"
   ]
  },
  {
   "cell_type": "code",
   "execution_count": 9,
   "metadata": {},
   "outputs": [
    {
     "name": "stdout",
     "output_type": "stream",
     "text": [
      "[2, 4, 6, 8]\n",
      "[2, 4, 6, 8]\n"
     ]
    }
   ],
   "source": [
    "data = [1, 2, 3, 4, 5, 6, 7, 8]\n",
    "\n",
    "evens = []\n",
    "for num in data:\n",
    "    if not num % 2:\n",
    "        evens.append(num)\n",
    "\n",
    "print(evens)\n",
    "\n",
    "evens2 = [num for num in data if not num % 2]\n",
    "\n",
    "print(evens2)"
   ]
  },
  {
   "cell_type": "code",
   "execution_count": 10,
   "metadata": {},
   "outputs": [
    {
     "name": "stdout",
     "output_type": "stream",
     "text": [
      "['jeden', 'dwa', 'trzy', 'cztery']\n",
      "['jeden', 'dwa', 'trzy', 'cztery']\n"
     ]
    }
   ],
   "source": [
    "data = [1, 'jeden', 2, 'dwa', 3, 'trzy', 4, 'cztery']\n",
    "\n",
    "words = []\n",
    "for num in data:\n",
    "    if isinstance(num, str):\n",
    "        words.append(num)\n",
    "\n",
    "print(words)\n",
    "\n",
    "words2 = [num for num in data if isinstance(num,str)]\n",
    "\n",
    "print(words2)"
   ]
  },
  {
   "cell_type": "code",
   "execution_count": 11,
   "metadata": {},
   "outputs": [
    {
     "name": "stdout",
     "output_type": "stream",
     "text": [
      "['Cześć,', 'I', 'Dzięki', 'Za', 'Ryby']\n",
      "['Cześć,', 'I', 'Dzięki', 'Za', 'Ryby']\n"
     ]
    }
   ],
   "source": [
    "data = list('Cześć, i dzięki za ryby'.split())\n",
    "\n",
    "title = []\n",
    "for word in data:\n",
    "    title.append(word.title())\n",
    "\n",
    "print(title)\n",
    "\n",
    "title2 = [word.title() for word in data]\n",
    "\n",
    "print(title2)"
   ]
  },
  {
   "cell_type": "markdown",
   "metadata": {},
   "source": [
    "trying to reach result:"
   ]
  },
  {
   "cell_type": "code",
   "execution_count": 25,
   "metadata": {},
   "outputs": [
    {
     "name": "stdout",
     "output_type": "stream",
     "text": [
      "{'Freeport', 'Treasure Cay', 'Rock Sound', 'West End'}\n",
      "['09:55AM', '07:00PM']\n"
     ]
    }
   ],
   "source": [
    "dests = set(fts.values())\n",
    "print(dests)\n",
    "\n",
    "tf_west_end = [k for k,v in fts.items() if v == 'West End'] # tf mean time flight\n",
    "print(tf_west_end)"
   ]
  },
  {
   "cell_type": "code",
   "execution_count": 18,
   "metadata": {},
   "outputs": [
    {
     "name": "stdout",
     "output_type": "stream",
     "text": [
      "Freeport -> ['09:35AM', '05:00PM']\n",
      "Treasure Cay -> ['10:45AM', '12:00PM']\n",
      "Rock Sound -> ['11:45AM', '05:55PM']\n",
      "West End -> ['09:55AM', '07:00PM']\n"
     ]
    }
   ],
   "source": [
    "for dest in set(fts.values()):\n",
    "    print(dest, '->', [k for k,v in fts.items() if v == dest])"
   ]
  },
  {
   "cell_type": "code",
   "execution_count": 23,
   "metadata": {},
   "outputs": [
    {
     "name": "stdout",
     "output_type": "stream",
     "text": [
      "{'Freeport': ['09:35AM', '05:00PM'],\n",
      " 'Rock Sound': ['11:45AM', '05:55PM'],\n",
      " 'Treasure Cay': ['10:45AM', '12:00PM'],\n",
      " 'West End': ['09:55AM', '07:00PM']}\n",
      "{'Freeport': ['09:35AM', '05:00PM'],\n",
      " 'Rock Sound': ['11:45AM', '05:55PM'],\n",
      " 'Treasure Cay': ['10:45AM', '12:00PM'],\n",
      " 'West End': ['09:55AM', '07:00PM']}\n"
     ]
    }
   ],
   "source": [
    "when = {}\n",
    "for dest in set(fts.values()):\n",
    "    when[dest] = [k for k,v in fts.items() if v == dest]\n",
    "\n",
    "pprint.pprint(when)\n",
    "\n",
    "# CRAZY COMPREHENSION ;)\n",
    "when2 = {dest: [k for k,v in fts.items() if v == dest] for dest in set(fts.values())}\n",
    "\n",
    "pprint.pprint(when2)"
   ]
  }
 ],
 "metadata": {
  "kernelspec": {
   "display_name": "Python 3",
   "language": "python",
   "name": "python3"
  },
  "language_info": {
   "codemirror_mode": {
    "name": "ipython",
    "version": 3
   },
   "file_extension": ".py",
   "mimetype": "text/x-python",
   "name": "python",
   "nbconvert_exporter": "python",
   "pygments_lexer": "ipython3",
   "version": "3.11.3"
  },
  "orig_nbformat": 4
 },
 "nbformat": 4,
 "nbformat_minor": 2
}
