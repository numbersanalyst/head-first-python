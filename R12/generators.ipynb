{
 "cells": [
  {
   "cell_type": "code",
   "execution_count": 1,
   "metadata": {},
   "outputs": [
    {
     "ename": "AttributeError",
     "evalue": "'tuple' object has no attribute 'append'",
     "output_type": "error",
     "traceback": [
      "\u001b[1;31m---------------------------------------------------------------------------\u001b[0m",
      "\u001b[1;31mAttributeError\u001b[0m                            Traceback (most recent call last)",
      "Cell \u001b[1;32mIn[1], line 4\u001b[0m\n\u001b[0;32m      1\u001b[0m names \u001b[39m=\u001b[39m ()\n\u001b[0;32m      3\u001b[0m \u001b[39mfor\u001b[39;00m n \u001b[39min\u001b[39;00m (\u001b[39m'\u001b[39m\u001b[39mJan\u001b[39m\u001b[39m'\u001b[39m, \u001b[39m'\u001b[39m\u001b[39mPaweł\u001b[39m\u001b[39m'\u001b[39m, \u001b[39m'\u001b[39m\u001b[39mJerzy\u001b[39m\u001b[39m'\u001b[39m, \u001b[39m'\u001b[39m\u001b[39mRyszard\u001b[39m\u001b[39m'\u001b[39m):\n\u001b[1;32m----> 4\u001b[0m     names\u001b[39m.\u001b[39;49mappend(n)\n",
      "\u001b[1;31mAttributeError\u001b[0m: 'tuple' object has no attribute 'append'"
     ]
    }
   ],
   "source": [
    "names = ()\n",
    "\n",
    "for n in ('Jan', 'Paweł', 'Jerzy', 'Ryszard'):\n",
    "    names.append(n)"
   ]
  },
  {
   "cell_type": "code",
   "execution_count": 2,
   "metadata": {},
   "outputs": [
    {
     "name": "stdout",
     "output_type": "stream",
     "text": [
      "3\n",
      "6\n",
      "9\n",
      "12\n",
      "15\n"
     ]
    }
   ],
   "source": [
    "for i in [x*3 for x in [1,2,3,4,5]]:\n",
    "    print(i)"
   ]
  },
  {
   "cell_type": "code",
   "execution_count": 3,
   "metadata": {},
   "outputs": [
    {
     "name": "stdout",
     "output_type": "stream",
     "text": [
      "3\n",
      "6\n",
      "9\n",
      "12\n",
      "15\n"
     ]
    }
   ],
   "source": [
    "for i in (x*3 for x in [1,2,3,4,5]): # generator\n",
    "    print(i)"
   ]
  },
  {
   "cell_type": "code",
   "execution_count": 7,
   "metadata": {},
   "outputs": [
    {
     "name": "stdout",
     "output_type": "stream",
     "text": [
      "777440 -> 200 -> https://www.youtube.com/\n",
      "59879 -> 200 -> https://www.facebook.com/\n",
      "314657 -> 200 -> https://www.freecodecamp.org/\n"
     ]
    }
   ],
   "source": [
    "import requests\n",
    "\n",
    "urls = ('https://www.youtube.com/', 'https://www.facebook.com/',\n",
    "        'https://www.freecodecamp.org/')\n",
    "\n",
    "for resp in [requests.get(url) for url in urls]:\n",
    "    print(len(resp.content), resp.status_code, resp.url, sep=' -> ')\n"
   ]
  },
  {
   "cell_type": "code",
   "execution_count": 8,
   "metadata": {},
   "outputs": [
    {
     "name": "stdout",
     "output_type": "stream",
     "text": [
      "775400 -> 200 -> https://www.youtube.com/\n",
      "59886 -> 200 -> https://www.facebook.com/\n",
      "314657 -> 200 -> https://www.freecodecamp.org/\n"
     ]
    }
   ],
   "source": [
    "for resp in (requests.get(url) for url in urls):\n",
    "    print(len(resp.content), resp.status_code, resp.url, sep=' -> ')"
   ]
  },
  {
   "cell_type": "code",
   "execution_count": 7,
   "metadata": {},
   "outputs": [
    {
     "name": "stdout",
     "output_type": "stream",
     "text": [
      "778009 -> 200 -> https://www.youtube.com/\n",
      "59878 -> 200 -> https://www.facebook.com/\n",
      "314657 -> 200 -> https://www.freecodecamp.org/\n",
      "{'https://www.facebook.com/': 59882,\n",
      " 'https://www.freecodecamp.org/': 314657,\n",
      " 'https://www.youtube.com/': 778052}\n"
     ]
    }
   ],
   "source": [
    "from url_utils import gen_from_urls\n",
    "import pprint\n",
    "\n",
    "urls = ('https://www.youtube.com/', 'https://www.facebook.com/',\n",
    "        'https://www.freecodecamp.org/')\n",
    "\n",
    "for resp_len, status, url in gen_from_urls(urls):\n",
    "    print(resp_len, status, url, sep=' -> ')\n",
    "\n",
    "urls_res = {url: size for size, _, url in gen_from_urls(urls)}\n",
    "pprint.pprint(urls_res)"
   ]
  }
 ],
 "metadata": {
  "kernelspec": {
   "display_name": "Python 3",
   "language": "python",
   "name": "python3"
  },
  "language_info": {
   "codemirror_mode": {
    "name": "ipython",
    "version": 3
   },
   "file_extension": ".py",
   "mimetype": "text/x-python",
   "name": "python",
   "nbconvert_exporter": "python",
   "pygments_lexer": "ipython3",
   "version": "3.11.3"
  },
  "orig_nbformat": 4
 },
 "nbformat": 4,
 "nbformat_minor": 2
}
