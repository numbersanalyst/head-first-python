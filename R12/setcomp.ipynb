{
 "cells": [
  {
   "cell_type": "code",
   "execution_count": 3,
   "metadata": {},
   "outputs": [
    {
     "name": "stdout",
     "output_type": "stream",
     "text": [
      "{'e', 'a', 'o', 'i'}\n",
      "{'e', 'a', 'o', 'i'}\n"
     ]
    }
   ],
   "source": [
    "vowels = ('a', 'e', 'i', 'o', 'u')\n",
    "message = 'Nie zapomnij spakować swojego ręcznika.'\n",
    "\n",
    "found = set()\n",
    "for v in vowels:\n",
    "    if v in message:\n",
    "        found.add(v)\n",
    "\n",
    "found2 = {v for v in vowels if v in message}\n",
    "\n",
    "print(found)\n",
    "print(found2)"
   ]
  }
 ],
 "metadata": {
  "kernelspec": {
   "display_name": "Python 3",
   "language": "python",
   "name": "python3"
  },
  "language_info": {
   "codemirror_mode": {
    "name": "ipython",
    "version": 3
   },
   "file_extension": ".py",
   "mimetype": "text/x-python",
   "name": "python",
   "nbconvert_exporter": "python",
   "pygments_lexer": "ipython3",
   "version": "3.11.3"
  },
  "orig_nbformat": 4
 },
 "nbformat": 4,
 "nbformat_minor": 2
}
