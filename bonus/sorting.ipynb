{
 "cells": [
  {
   "cell_type": "code",
   "execution_count": 1,
   "metadata": {},
   "outputs": [],
   "source": [
    "product = {'Książka': 99.99,\n",
    "           'PDF': 89.99,\n",
    "           'Wideo': 299.99}"
   ]
  },
  {
   "cell_type": "code",
   "execution_count": 16,
   "metadata": {},
   "outputs": [
    {
     "name": "stdout",
     "output_type": "stream",
     "text": [
      "Książka -> 99.99\n",
      "PDF -> 89.99\n",
      "Wideo -> 299.99\n"
     ]
    }
   ],
   "source": [
    "for k in product:\n",
    "    print(k, '->', product[k])"
   ]
  },
  {
   "cell_type": "code",
   "execution_count": 4,
   "metadata": {},
   "outputs": [
    {
     "name": "stdout",
     "output_type": "stream",
     "text": [
      "Książka -> 99.99\n",
      "PDF -> 89.99\n",
      "Wideo -> 299.99\n"
     ]
    }
   ],
   "source": [
    "for k in sorted(product):\n",
    "    print(k, '->', product[k])"
   ]
  },
  {
   "cell_type": "code",
   "execution_count": 17,
   "metadata": {},
   "outputs": [
    {
     "name": "stdout",
     "output_type": "stream",
     "text": [
      "PDF -> 89.99\n",
      "Książka -> 99.99\n",
      "Wideo -> 299.99\n"
     ]
    }
   ],
   "source": [
    "for k in sorted(product, key=product.get):\n",
    "    print(k, '->', product[k])"
   ]
  },
  {
   "cell_type": "code",
   "execution_count": 18,
   "metadata": {},
   "outputs": [
    {
     "name": "stdout",
     "output_type": "stream",
     "text": [
      "Wideo -> 299.99\n",
      "Książka -> 99.99\n",
      "PDF -> 89.99\n"
     ]
    }
   ],
   "source": [
    "for k in sorted(product, key=product.get, reverse=True):\n",
    "    print(k, '->', product[k])"
   ]
  }
 ],
 "metadata": {
  "kernelspec": {
   "display_name": "Python 3",
   "language": "python",
   "name": "python3"
  },
  "language_info": {
   "codemirror_mode": {
    "name": "ipython",
    "version": 3
   },
   "file_extension": ".py",
   "mimetype": "text/x-python",
   "name": "python",
   "nbconvert_exporter": "python",
   "pygments_lexer": "ipython3",
   "version": "3.11.3"
  },
  "orig_nbformat": 4
 },
 "nbformat": 4,
 "nbformat_minor": 2
}
