{
 "cells": [
  {
   "cell_type": "markdown",
   "metadata": {},
   "source": [
    "trochę klasy"
   ]
  },
  {
   "cell_type": "code",
   "execution_count": 1,
   "metadata": {},
   "outputs": [],
   "source": [
    "class CountFromBy:\n",
    "    pass"
   ]
  },
  {
   "cell_type": "code",
   "execution_count": 2,
   "metadata": {},
   "outputs": [],
   "source": [
    "a = CountFromBy()\n",
    "b = CountFromBy()"
   ]
  },
  {
   "cell_type": "code",
   "execution_count": 20,
   "metadata": {},
   "outputs": [],
   "source": [
    "class CountFromBy:\n",
    "    def __init__(self, v: int, i: int) -> None:\n",
    "        self.val = v\n",
    "        self.incr = i\n",
    "\n",
    "    def increase(self) -> None:\n",
    "        self.val += self.incr\n"
   ]
  },
  {
   "cell_type": "code",
   "execution_count": 21,
   "metadata": {},
   "outputs": [
    {
     "name": "stdout",
     "output_type": "stream",
     "text": [
      "110\n"
     ]
    }
   ],
   "source": [
    "c = CountFromBy(100, 10)\n",
    "c.increase()\n",
    "print(c.val)"
   ]
  },
  {
   "cell_type": "code",
   "execution_count": 36,
   "metadata": {},
   "outputs": [
    {
     "name": "stdout",
     "output_type": "stream",
     "text": [
      "<__main__.CountFromBy object at 0x000001F81CC65690>\n",
      "<class '__main__.CountFromBy'>\n",
      "2165146277520\n",
      "0x1f81cc65690\n"
     ]
    }
   ],
   "source": [
    "d = CountFromBy(100, 10)\n",
    "print(d)\n",
    "print(type(d))\n",
    "print(id(d))\n",
    "print(hex(id(d)))"
   ]
  },
  {
   "cell_type": "code",
   "execution_count": 38,
   "metadata": {},
   "outputs": [
    {
     "name": "stdout",
     "output_type": "stream",
     "text": [
      "Help on built-in function repr in module builtins:\n",
      "\n",
      "repr(obj, /)\n",
      "    Return the canonical string representation of the object.\n",
      "    \n",
      "    For many object types, including most builtins, eval(repr(obj)) == obj.\n",
      "\n"
     ]
    }
   ],
   "source": [
    "help(repr)"
   ]
  },
  {
   "cell_type": "code",
   "execution_count": 46,
   "metadata": {},
   "outputs": [],
   "source": [
    "class CountFromBy:\n",
    "    def __init__(self, v: int = 0, i: int = 1) -> None:\n",
    "        self.val = v\n",
    "        self.incr = i\n",
    "\n",
    "    def __repr__(self) -> str:\n",
    "        return str(self.val)\n",
    "\n",
    "    def increase(self) -> None:\n",
    "        self.val += self.incr\n"
   ]
  },
  {
   "cell_type": "code",
   "execution_count": 47,
   "metadata": {},
   "outputs": [
    {
     "name": "stdout",
     "output_type": "stream",
     "text": [
      "0\n",
      "5\n"
     ]
    }
   ],
   "source": [
    "e = CountFromBy()\n",
    "print(e)\n",
    "\n",
    "for i in range(5):\n",
    "    e.increase()\n",
    "\n",
    "print(e)"
   ]
  }
 ],
 "metadata": {
  "kernelspec": {
   "display_name": "Python 3",
   "language": "python",
   "name": "python3"
  },
  "language_info": {
   "codemirror_mode": {
    "name": "ipython",
    "version": 3
   },
   "file_extension": ".py",
   "mimetype": "text/x-python",
   "name": "python",
   "nbconvert_exporter": "python",
   "pygments_lexer": "ipython3",
   "version": "3.11.3"
  },
  "orig_nbformat": 4
 },
 "nbformat": 4,
 "nbformat_minor": 2
}
