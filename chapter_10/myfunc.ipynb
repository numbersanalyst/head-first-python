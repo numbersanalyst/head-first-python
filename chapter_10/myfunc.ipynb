{
 "cells": [
  {
   "cell_type": "code",
   "execution_count": 3,
   "metadata": {},
   "outputs": [],
   "source": [
    "def myfunc(*args):\n",
    "    for a in args:\n",
    "        print(a, end=' ')\n",
    "    if args:\n",
    "        print()\n"
   ]
  },
  {
   "cell_type": "code",
   "execution_count": 4,
   "metadata": {},
   "outputs": [
    {
     "name": "stdout",
     "output_type": "stream",
     "text": [
      "10 \n",
      "10 20 30 40 50 60 70 \n",
      "1 dwa 3 cztery 5 sześć 7 \n"
     ]
    }
   ],
   "source": [
    "myfunc(10)\n",
    "myfunc()\n",
    "myfunc(10, 20, 30, 40, 50, 60, 70)\n",
    "myfunc(1, 'dwa', 3, 'cztery', 5, 'sześć', 7)"
   ]
  },
  {
   "cell_type": "code",
   "execution_count": 5,
   "metadata": {},
   "outputs": [
    {
     "name": "stdout",
     "output_type": "stream",
     "text": [
      "[1, 2, 3, 4, 5, 6, 7] \n",
      "1 2 3 4 5 6 7 \n"
     ]
    }
   ],
   "source": [
    "values = [1, 2, 3, 4, 5, 6, 7]\n",
    "\n",
    "myfunc(values)\n",
    "\n",
    "myfunc(*values)\n"
   ]
  },
  {
   "cell_type": "code",
   "execution_count": 12,
   "metadata": {},
   "outputs": [],
   "source": [
    "def myfunc2(**kwargs):\n",
    "    for k, v in kwargs.items():\n",
    "        print(k, v, sep='->', end=' ')\n",
    "    if kwargs:\n",
    "        print()\n"
   ]
  },
  {
   "cell_type": "code",
   "execution_count": 13,
   "metadata": {},
   "outputs": [
    {
     "name": "stdout",
     "output_type": "stream",
     "text": [
      "a->10 b->20 \n",
      "a->10 b->20 c->30 d->40 e->50 \n"
     ]
    }
   ],
   "source": [
    "myfunc2(a=10, b=20)\n",
    "myfunc2()\n",
    "myfunc2(a=10,b=20,c=30,d=40,e=50)"
   ]
  },
  {
   "cell_type": "code",
   "execution_count": 18,
   "metadata": {},
   "outputs": [
    {
     "name": "stdout",
     "output_type": "stream",
     "text": [
      "a->10 b->20 c->30 \n"
     ]
    }
   ],
   "source": [
    "values2 = {'a': 10,\n",
    "           'b': 20,\n",
    "           'c': 30}\n",
    "\n",
    "myfunc2(**values2)\n"
   ]
  },
  {
   "cell_type": "code",
   "execution_count": 19,
   "metadata": {},
   "outputs": [],
   "source": [
    "def myfunc3(*args, **kwargs):\n",
    "    if args:\n",
    "        for a in args:\n",
    "            print(a, end=' ')\n",
    "        print()\n",
    "\n",
    "    if kwargs:\n",
    "        for k, v in kwargs.items():\n",
    "            print(k, v, sep='->', end=' ')\n",
    "        print()\n"
   ]
  },
  {
   "cell_type": "code",
   "execution_count": 20,
   "metadata": {},
   "outputs": [
    {
     "name": "stdout",
     "output_type": "stream",
     "text": [
      "1 2 3 \n",
      "a->10 b->20 c->30 \n",
      "1 2 3 \n",
      "a->10 b->20 c->30 \n"
     ]
    }
   ],
   "source": [
    "myfunc3()\n",
    "myfunc3(1, 2, 3)\n",
    "myfunc3(a=10, b=20, c=30)\n",
    "myfunc3(1, 2, 3, a=10, b=20, c=30)\n"
   ]
  }
 ],
 "metadata": {
  "kernelspec": {
   "display_name": "Python 3",
   "language": "python",
   "name": "python3"
  },
  "language_info": {
   "codemirror_mode": {
    "name": "ipython",
    "version": 3
   },
   "file_extension": ".py",
   "mimetype": "text/x-python",
   "name": "python",
   "nbconvert_exporter": "python",
   "pygments_lexer": "ipython3",
   "version": "3.11.3"
  },
  "orig_nbformat": 4
 },
 "nbformat": 4,
 "nbformat_minor": 2
}
