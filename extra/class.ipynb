{
 "cells": [
  {
   "cell_type": "markdown",
   "metadata": {},
   "source": [
    "If you are using a lot of class see this constructions:"
   ]
  },
  {
   "cell_type": "markdown",
   "metadata": {},
   "source": [
    "`@staticmethod`\n",
    "skips self arg\n",
    "\n",
    "`@classmethod`\n",
    "replace self arg to cls, for function which create a class obj\n",
    "\n",
    "`@property`\n",
    "changing the way how the method can be used to. Method as an attribute\n",
    "\n",
    "`__slots__`\n",
    "better performance, worse elastic\n"
   ]
  }
 ],
 "metadata": {
  "language_info": {
   "name": "python"
  },
  "orig_nbformat": 4
 },
 "nbformat": 4,
 "nbformat_minor": 2
}
