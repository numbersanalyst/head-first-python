{
 "cells": [
  {
   "cell_type": "code",
   "execution_count": 3,
   "metadata": {},
   "outputs": [
    {
     "name": "stdout",
     "output_type": "stream",
     "text": [
      "[(1, 'a'), (1, 'b'), (1, 'c'), (2, 'a'), (2, 'b'), (2, 'c'), (3, 'a'), (3, 'b'), (3, 'c')]\n"
     ]
    }
   ],
   "source": [
    "from itertools import product, permutations, combinations\n",
    "\n",
    "def product_example(iterable1, iterable2):\n",
    "    result = product(iterable1, iterable2)\n",
    "    print(list(result))\n",
    "\n",
    "product_example([1,2,3], ['a', 'b', 'c'])"
   ]
  },
  {
   "cell_type": "code",
   "execution_count": 8,
   "metadata": {},
   "outputs": [
    {
     "name": "stdout",
     "output_type": "stream",
     "text": [
      "[('A', 'b'), ('A', 'C'), ('A', 'd'), ('b', 'A'), ('b', 'C'), ('b', 'd'), ('C', 'A'), ('C', 'b'), ('C', 'd'), ('d', 'A'), ('d', 'b'), ('d', 'C')]\n"
     ]
    }
   ],
   "source": [
    "def permutations_example(iterable, size):\n",
    "    result = permutations(iterable, size)\n",
    "    print(list(result))\n",
    "\n",
    "permutations_example('AbCd', 2)"
   ]
  },
  {
   "cell_type": "code",
   "execution_count": 9,
   "metadata": {},
   "outputs": [
    {
     "name": "stdout",
     "output_type": "stream",
     "text": [
      "[('A', 'b'), ('A', 'C'), ('A', 'd'), ('b', 'C'), ('b', 'd'), ('C', 'd')]\n"
     ]
    }
   ],
   "source": [
    "def combinations_example(iterable, size):\n",
    "    result = combinations(iterable, size)\n",
    "    print(list(result))\n",
    "\n",
    "combinations_example('AbCd', 2)\n",
    "\n",
    "# order in combinations does not matter"
   ]
  }
 ],
 "metadata": {
  "kernelspec": {
   "display_name": "Python 3",
   "language": "python",
   "name": "python3"
  },
  "language_info": {
   "codemirror_mode": {
    "name": "ipython",
    "version": 3
   },
   "file_extension": ".py",
   "mimetype": "text/x-python",
   "name": "python",
   "nbconvert_exporter": "python",
   "pygments_lexer": "ipython3",
   "version": "3.11.3"
  },
  "orig_nbformat": 4
 },
 "nbformat": 4,
 "nbformat_minor": 2
}
