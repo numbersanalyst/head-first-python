{
 "cells": [
  {
   "cell_type": "code",
   "execution_count": 5,
   "metadata": {},
   "outputs": [
    {
     "name": "stdout",
     "output_type": "stream",
     "text": [
      "[1, 3, 6, 10, 15, 21, 28, 36, 45, 55]\n",
      "[10, 30, 60, 100, 150]\n"
     ]
    }
   ],
   "source": [
    "from itertools import accumulate, chain, compress, pairwise\n",
    "\n",
    "def accumulate_example(elements):\n",
    "    running_sum = accumulate(elements)\n",
    "    print(list(running_sum))\n",
    "\n",
    "accumulate_example([1,2,3,4,5,6,7,8,9,10])\n",
    "accumulate_example([10,20,30,40,50])"
   ]
  },
  {
   "cell_type": "code",
   "execution_count": 6,
   "metadata": {},
   "outputs": [
    {
     "name": "stdout",
     "output_type": "stream",
     "text": [
      "['a', 'b', 'c', 'd', 'e', 'f', 'g']\n"
     ]
    }
   ],
   "source": [
    "def chain_example(elements1, elements2):\n",
    "    chained = chain(elements1, elements2)\n",
    "    print(list(chained))\n",
    "\n",
    "\n",
    "chain_example('abc', 'defg')\n"
   ]
  },
  {
   "cell_type": "code",
   "execution_count": 7,
   "metadata": {},
   "outputs": [
    {
     "name": "stdout",
     "output_type": "stream",
     "text": [
      "['a', 'b', 'c', 'd', 'e', 'f', 'g', 1, 2, 3]\n"
     ]
    }
   ],
   "source": [
    "def chain_from_iterable_example(iterable):\n",
    "    chained = chain.from_iterable(iterable)\n",
    "    print(list(chained))\n",
    "\n",
    "\n",
    "chain_from_iterable_example(['abc', 'defg', [1, 2, 3]])\n"
   ]
  },
  {
   "cell_type": "code",
   "execution_count": 8,
   "metadata": {},
   "outputs": [
    {
     "name": "stdout",
     "output_type": "stream",
     "text": [
      "[['A', 'B', 'C'], [True, False, False]]\n"
     ]
    }
   ],
   "source": [
    "def compress_example(data,selectors):\n",
    "    compressed = compress(data,selectors)\n",
    "    print(list(compressed))\n",
    "\n",
    "compress_example([['A','B','C'], [1,2,3], [True,False, False]], [1,0,1])"
   ]
  },
  {
   "cell_type": "code",
   "execution_count": 9,
   "metadata": {},
   "outputs": [
    {
     "name": "stdout",
     "output_type": "stream",
     "text": [
      "[(1, 2), (2, 3), (3, 4), (4, 5), (5, 6), (6, 7), (7, 8), (8, 9), (9, 10)]\n"
     ]
    }
   ],
   "source": [
    "def pairwise_example(iterable):\n",
    "    pairwised = pairwise(iterable)\n",
    "    print(list(pairwised))\n",
    "\n",
    "pairwise_example([1,2,3,4,5,6,7,8,9,10])"
   ]
  }
 ],
 "metadata": {
  "kernelspec": {
   "display_name": "Python 3",
   "language": "python",
   "name": "python3"
  },
  "language_info": {
   "codemirror_mode": {
    "name": "ipython",
    "version": 3
   },
   "file_extension": ".py",
   "mimetype": "text/x-python",
   "name": "python",
   "nbconvert_exporter": "python",
   "pygments_lexer": "ipython3",
   "version": "3.11.3"
  },
  "orig_nbformat": 4
 },
 "nbformat": 4,
 "nbformat_minor": 2
}
